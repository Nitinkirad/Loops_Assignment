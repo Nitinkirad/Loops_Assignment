{
 "cells": [
  {
   "cell_type": "code",
   "execution_count": null,
   "id": "2773ddcc-ae2c-4816-b91a-5b2c4c83f60f",
   "metadata": {},
   "outputs": [],
   "source": [
    "# Q-1  Explain with an example each when to use a for loop and a while loop"
   ]
  },
  {
   "cell_type": "code",
   "execution_count": null,
   "id": "a9487957-5482-4956-8354-218faeb64752",
   "metadata": {},
   "outputs": [],
   "source": [
    "# For loop "
   ]
  },
  {
   "cell_type": "code",
   "execution_count": 4,
   "id": "a57e8864-5520-4a6b-92bc-8de1aa9b7997",
   "metadata": {},
   "outputs": [],
   "source": [
    "#  SOLUTION NO. 1\n",
    "\n",
    "l=[\"Nitin\", \"Kirad\",\"student\",\"pwskills\",\"data science\"]"
   ]
  },
  {
   "cell_type": "code",
   "execution_count": 5,
   "id": "ef811d39-d9ad-41a2-8a09-0fa972be6646",
   "metadata": {},
   "outputs": [
    {
     "name": "stdout",
     "output_type": "stream",
     "text": [
      "Nitin\n",
      "Kirad\n",
      "student\n",
      "pwskills\n",
      "data science\n",
      "else will execute after for loop execute itself If foor loop is not able to execute then else also will not execute \n"
     ]
    }
   ],
   "source": [
    "for i in l:\n",
    "    print(i)\n",
    "else:\n",
    "    print(\"else will execute after for loop execute itself If foor loop is not able to execute then else also will not execute \")"
   ]
  },
  {
   "cell_type": "code",
   "execution_count": 6,
   "id": "9622307a-4089-44d9-b03f-6e7c362dad6d",
   "metadata": {},
   "outputs": [],
   "source": [
    "# While loop"
   ]
  },
  {
   "cell_type": "code",
   "execution_count": 14,
   "id": "3f676c43-4b40-4f8c-81ff-36c16074fc8f",
   "metadata": {},
   "outputs": [],
   "source": [
    "l1=[1,2,3,4,5,6,7]"
   ]
  },
  {
   "cell_type": "code",
   "execution_count": 16,
   "id": "0b5bb14c-a227-4eb3-bbdf-a498d533a750",
   "metadata": {},
   "outputs": [
    {
     "name": "stdout",
     "output_type": "stream",
     "text": [
      "1\n",
      "2\n",
      "3\n",
      "4\n",
      "5\n",
      "6\n",
      "7\n"
     ]
    }
   ],
   "source": [
    "i = 1\n",
    "while i < 8:\n",
    "    print(i)\n",
    "    i += 1\n"
   ]
  },
  {
   "cell_type": "code",
   "execution_count": 18,
   "id": "1d776028-6c4e-40fb-ae8c-3ef2f27dc9ce",
   "metadata": {},
   "outputs": [],
   "source": [
    "# Q-2  Write a python program to print the sum and product of the first 10 natural numbers using for \n",
    "#    and while loop."
   ]
  },
  {
   "cell_type": "code",
   "execution_count": 19,
   "id": "39a4f43a-d297-419f-9efd-56bbe5a01976",
   "metadata": {},
   "outputs": [],
   "source": [
    "Natural_Number=[1,2,3,4,5,6,7,8,9,10]"
   ]
  },
  {
   "cell_type": "code",
   "execution_count": 25,
   "id": "a185b691-4306-42a7-b313-267238ffab26",
   "metadata": {},
   "outputs": [
    {
     "data": {
      "text/plain": [
       "55"
      ]
     },
     "execution_count": 25,
     "metadata": {},
     "output_type": "execute_result"
    }
   ],
   "source": [
    "#  SOLUTION NO. 2\n",
    "\n",
    "result = 0 \n",
    "for i in Natural_Number:\n",
    "    result = result + i\n",
    "    \n",
    "result    "
   ]
  },
  {
   "cell_type": "code",
   "execution_count": 26,
   "id": "dbcfef49-a07a-442e-aff0-1e32a09ca195",
   "metadata": {},
   "outputs": [],
   "source": [
    "#  Q3. Create a python program to compute the electricity bill for a household.\n",
    "#   The per-unit charges in rupees are as follows: For the first 100 units, the user will be charged Rs. 4.5 per \n",
    "#  unit, for the next 100 units, the user will be charged Rs. 6 per unit, and for the next 100 units, the user will \n",
    "#   be charged Rs. 10 per unit, After 300 units and above the user will be charged Rs. 20 per unit.\n",
    "\n",
    "\n",
    "#  You are required to take the units of electricity consumed in a month from the user as input.\n",
    "\n",
    "\n",
    "#  Your program must pass this test case: when the unit of electricity consumed by the user in a month is \n",
    "#  310, the total electricity bill should be 2250."
   ]
  },
  {
   "cell_type": "code",
   "execution_count": 31,
   "id": "2d421ba5-a5f9-4885-a884-2e2af8e8a5b1",
   "metadata": {},
   "outputs": [
    {
     "name": "stdin",
     "output_type": "stream",
     "text": [
      "Enter the units consumed:  110\n"
     ]
    },
    {
     "name": "stdout",
     "output_type": "stream",
     "text": [
      "Total Electricity Bill: Rs. 510.0\n"
     ]
    }
   ],
   "source": [
    "#  SOLUTION NO. 3\n",
    "\n",
    "\n",
    "def calculate_electricity_bill(units):\n",
    "    total_bill = 0\n",
    "    \n",
    "    if units <= 100:\n",
    "        total_bill = units * 4.5\n",
    "    elif units <= 200:\n",
    "        total_bill = 100 * 4.5 + (units - 100) * 6\n",
    "    elif units <= 300:\n",
    "        total_bill = 100 * 4.5 + 100 * 6 + (units - 200) * 10\n",
    "    else:\n",
    "        total_bill = 100 * 4.5 + 100 * 6 + 100 * 10 + (units - 300) * 20\n",
    "        \n",
    "    return total_bill\n",
    "\n",
    "\n",
    "# Get units consumed from the user\n",
    "units_consumed = int(input(\"Enter the units consumed: \"))\n",
    "\n",
    "# Calculate the electricity bill\n",
    "bill = calculate_electricity_bill(units_consumed)\n",
    "\n",
    "print(\"Total Electricity Bill: Rs.\", bill)\n",
    "\n"
   ]
  },
  {
   "cell_type": "code",
   "execution_count": 32,
   "id": "c18e6ae0-2cf7-4c91-8d8a-58e072a50293",
   "metadata": {},
   "outputs": [],
   "source": [
    "#  Q-4  Create a list of numbers from 1 to 100. Use for loop and while loop to calculate the cube of each \n",
    "#  number and if the cube of that number is divisible by 4 or 5 then append that number in a list and\n",
    "#   print that list."
   ]
  },
  {
   "cell_type": "code",
   "execution_count": null,
   "id": "8dafbe34-b5e4-406c-9ad0-316d73c8b702",
   "metadata": {},
   "outputs": [],
   "source": [
    "#  Using for loop."
   ]
  },
  {
   "cell_type": "code",
   "execution_count": 37,
   "id": "c2d49d90-50e3-465a-b634-2a4960ae00f2",
   "metadata": {},
   "outputs": [
    {
     "name": "stdout",
     "output_type": "stream",
     "text": [
      "[2, 4, 5, 6, 8, 10, 12, 14, 15, 16, 18, 20, 22, 24, 25, 26, 28, 30, 32, 34, 35, 36, 38, 40, 42, 44, 45, 46, 48, 50, 52, 54, 55, 56, 58, 60, 62, 64, 65, 66, 68, 70, 72, 74, 75, 76, 78, 80, 82, 84, 85, 86, 88, 90, 92, 94, 95, 96, 98, 100]\n"
     ]
    }
   ],
   "source": [
    "#  SOLUTION NO. 4\n",
    "\n",
    "numbers = list(range(1, 101))\n",
    "cubes = []\n",
    "\n",
    "for num in numbers:\n",
    "    cube = num ** 3\n",
    "    if cube % 4 == 0 or cube % 5 == 0:\n",
    "        cubes.append(num)\n",
    "\n",
    "print(cubes)\n"
   ]
  },
  {
   "cell_type": "code",
   "execution_count": 38,
   "id": "73f7f866-fbc8-4d7e-a2e9-44234cdffeeb",
   "metadata": {},
   "outputs": [],
   "source": [
    "# Using while loop."
   ]
  },
  {
   "cell_type": "code",
   "execution_count": 39,
   "id": "75e1a435-fe33-41ad-b300-3e8e00423815",
   "metadata": {},
   "outputs": [
    {
     "name": "stdout",
     "output_type": "stream",
     "text": [
      "[2, 4, 5, 6, 8, 10, 12, 14, 15, 16, 18, 20, 22, 24, 25, 26, 28, 30, 32, 34, 35, 36, 38, 40, 42, 44, 45, 46, 48, 50, 52, 54, 55, 56, 58, 60, 62, 64, 65, 66, 68, 70, 72, 74, 75, 76, 78, 80, 82, 84, 85, 86, 88, 90, 92, 94, 95, 96, 98, 100]\n"
     ]
    }
   ],
   "source": [
    "numbers = list(range(1, 101))\n",
    "cubes = []\n",
    "i = 0\n",
    "\n",
    "while i < len(numbers):\n",
    "    num = numbers[i]\n",
    "    cube = num ** 3\n",
    "    if cube % 4 == 0 or cube % 5 == 0:\n",
    "        cubes.append(num)\n",
    "    i += 1\n",
    "\n",
    "print(cubes)\n"
   ]
  },
  {
   "cell_type": "code",
   "execution_count": 40,
   "id": "79f3a989-57a8-49e1-b24d-3a5870e8fe13",
   "metadata": {},
   "outputs": [],
   "source": [
    " #   Q-5    Write a program to filter count vowels in the below-given string.\n",
    "\n",
    "#            string = \"I want to become a data scientist\""
   ]
  },
  {
   "cell_type": "code",
   "execution_count": 41,
   "id": "db4f6697-9c0d-459b-940d-52176293d624",
   "metadata": {},
   "outputs": [
    {
     "name": "stdout",
     "output_type": "stream",
     "text": [
      "Number of vowels: 12\n"
     ]
    }
   ],
   "source": [
    " #  SOLUTION NO. 5\n",
    "\n",
    "def count_vowels(string):\n",
    "    vowels = \"aeiouAEIOU\"\n",
    "    count = 0\n",
    "\n",
    "    for char in string:\n",
    "        if char in vowels:\n",
    "            count += 1\n",
    "\n",
    "    return count\n",
    "\n",
    "\n",
    "string = \"I want to become a data scientist\"\n",
    "vowel_count = count_vowels(string)\n",
    "\n",
    "print(\"Number of vowels:\", vowel_count)\n"
   ]
  },
  {
   "cell_type": "code",
   "execution_count": null,
   "id": "7b12d94e-d84a-47ad-8733-ec8529b143ed",
   "metadata": {},
   "outputs": [],
   "source": []
  }
 ],
 "metadata": {
  "kernelspec": {
   "display_name": "Python 3 (ipykernel)",
   "language": "python",
   "name": "python3"
  },
  "language_info": {
   "codemirror_mode": {
    "name": "ipython",
    "version": 3
   },
   "file_extension": ".py",
   "mimetype": "text/x-python",
   "name": "python",
   "nbconvert_exporter": "python",
   "pygments_lexer": "ipython3",
   "version": "3.10.8"
  }
 },
 "nbformat": 4,
 "nbformat_minor": 5
}
